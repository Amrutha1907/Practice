{
 "cells": [
  {
   "cell_type": "markdown",
   "id": "33294915",
   "metadata": {},
   "source": [
    "Importing libraries"
   ]
  },
  {
   "cell_type": "code",
   "execution_count": 7,
   "id": "311dc28c",
   "metadata": {},
   "outputs": [],
   "source": [
    "import pandas as pd\n",
    "import numpy as np\n",
    "import seaborn as sns\n",
    "import matplotlib.pyplot as plt"
   ]
  },
  {
   "cell_type": "code",
   "execution_count": 6,
   "id": "24e8a87c",
   "metadata": {},
   "outputs": [],
   "source": [
    "# 1. Read the data into python"
   ]
  },
  {
   "cell_type": "code",
   "execution_count": 9,
   "id": "73ad2113",
   "metadata": {},
   "outputs": [
    {
     "data": {
      "text/html": [
       "<div>\n",
       "<style scoped>\n",
       "    .dataframe tbody tr th:only-of-type {\n",
       "        vertical-align: middle;\n",
       "    }\n",
       "\n",
       "    .dataframe tbody tr th {\n",
       "        vertical-align: top;\n",
       "    }\n",
       "\n",
       "    .dataframe thead th {\n",
       "        text-align: right;\n",
       "    }\n",
       "</style>\n",
       "<table border=\"1\" class=\"dataframe\">\n",
       "  <thead>\n",
       "    <tr style=\"text-align: right;\">\n",
       "      <th></th>\n",
       "      <th>ph</th>\n",
       "      <th>Hardness</th>\n",
       "      <th>Solids</th>\n",
       "      <th>Chloramines</th>\n",
       "      <th>Sulfate</th>\n",
       "      <th>Conductivity</th>\n",
       "      <th>Organic_carbon</th>\n",
       "      <th>Trihalomethanes</th>\n",
       "      <th>Turbidity</th>\n",
       "    </tr>\n",
       "  </thead>\n",
       "  <tbody>\n",
       "    <tr>\n",
       "      <th>0</th>\n",
       "      <td>8.316766</td>\n",
       "      <td>214.373394</td>\n",
       "      <td>22018.41744</td>\n",
       "      <td>8.059332</td>\n",
       "      <td>356.886136</td>\n",
       "      <td>363.266516</td>\n",
       "      <td>18.436525</td>\n",
       "      <td>100.341674</td>\n",
       "      <td>4.628771</td>\n",
       "    </tr>\n",
       "    <tr>\n",
       "      <th>1</th>\n",
       "      <td>9.092223</td>\n",
       "      <td>181.101509</td>\n",
       "      <td>17978.98634</td>\n",
       "      <td>6.546600</td>\n",
       "      <td>310.135738</td>\n",
       "      <td>398.410813</td>\n",
       "      <td>11.558279</td>\n",
       "      <td>31.997993</td>\n",
       "      <td>4.075075</td>\n",
       "    </tr>\n",
       "    <tr>\n",
       "      <th>2</th>\n",
       "      <td>5.584087</td>\n",
       "      <td>188.313324</td>\n",
       "      <td>28748.68774</td>\n",
       "      <td>7.544869</td>\n",
       "      <td>326.678363</td>\n",
       "      <td>280.467916</td>\n",
       "      <td>8.399735</td>\n",
       "      <td>54.917862</td>\n",
       "      <td>2.559708</td>\n",
       "    </tr>\n",
       "    <tr>\n",
       "      <th>3</th>\n",
       "      <td>10.223862</td>\n",
       "      <td>248.071735</td>\n",
       "      <td>28749.71654</td>\n",
       "      <td>7.513408</td>\n",
       "      <td>393.663395</td>\n",
       "      <td>283.651634</td>\n",
       "      <td>13.789695</td>\n",
       "      <td>84.603556</td>\n",
       "      <td>2.672989</td>\n",
       "    </tr>\n",
       "    <tr>\n",
       "      <th>4</th>\n",
       "      <td>8.635849</td>\n",
       "      <td>203.361523</td>\n",
       "      <td>13672.09176</td>\n",
       "      <td>4.563009</td>\n",
       "      <td>303.309771</td>\n",
       "      <td>474.607645</td>\n",
       "      <td>12.363817</td>\n",
       "      <td>62.798309</td>\n",
       "      <td>4.401425</td>\n",
       "    </tr>\n",
       "  </tbody>\n",
       "</table>\n",
       "</div>"
      ],
      "text/plain": [
       "          ph    Hardness       Solids  Chloramines     Sulfate  Conductivity  \\\n",
       "0   8.316766  214.373394  22018.41744     8.059332  356.886136    363.266516   \n",
       "1   9.092223  181.101509  17978.98634     6.546600  310.135738    398.410813   \n",
       "2   5.584087  188.313324  28748.68774     7.544869  326.678363    280.467916   \n",
       "3  10.223862  248.071735  28749.71654     7.513408  393.663395    283.651634   \n",
       "4   8.635849  203.361523  13672.09176     4.563009  303.309771    474.607645   \n",
       "\n",
       "   Organic_carbon  Trihalomethanes  Turbidity  \n",
       "0       18.436525       100.341674   4.628771  \n",
       "1       11.558279        31.997993   4.075075  \n",
       "2        8.399735        54.917862   2.559708  \n",
       "3       13.789695        84.603556   2.672989  \n",
       "4       12.363817        62.798309   4.401425  "
      ]
     },
     "execution_count": 9,
     "metadata": {},
     "output_type": "execute_result"
    }
   ],
   "source": [
    "data=pd.read_csv('week10.csv')\n",
    "data.head()"
   ]
  },
  {
   "cell_type": "markdown",
   "id": "d1c70c1a",
   "metadata": {},
   "source": [
    "2.Check for null values"
   ]
  },
  {
   "cell_type": "code",
   "execution_count": 12,
   "id": "24083727",
   "metadata": {},
   "outputs": [
    {
     "data": {
      "text/plain": [
       "ph                 0\n",
       "Hardness           0\n",
       "Solids             0\n",
       "Chloramines        0\n",
       "Sulfate            0\n",
       "Conductivity       0\n",
       "Organic_carbon     0\n",
       "Trihalomethanes    0\n",
       "Turbidity          0\n",
       "dtype: int64"
      ]
     },
     "execution_count": 12,
     "metadata": {},
     "output_type": "execute_result"
    }
   ],
   "source": [
    "data.isna().sum()\n"
   ]
  },
  {
   "cell_type": "markdown",
   "id": "5b67519a",
   "metadata": {},
   "source": [
    "#there is no null values"
   ]
  },
  {
   "cell_type": "markdown",
   "id": "00e6de48",
   "metadata": {},
   "source": [
    "3. Examine the variables ‘Hardness’, ‘Sulfate’, and ‘Organic_carbon’ "
   ]
  },
  {
   "cell_type": "code",
   "execution_count": 16,
   "id": "816cc567",
   "metadata": {},
   "outputs": [
    {
     "data": {
      "text/html": [
       "<div>\n",
       "<style scoped>\n",
       "    .dataframe tbody tr th:only-of-type {\n",
       "        vertical-align: middle;\n",
       "    }\n",
       "\n",
       "    .dataframe tbody tr th {\n",
       "        vertical-align: top;\n",
       "    }\n",
       "\n",
       "    .dataframe thead th {\n",
       "        text-align: right;\n",
       "    }\n",
       "</style>\n",
       "<table border=\"1\" class=\"dataframe\">\n",
       "  <thead>\n",
       "    <tr style=\"text-align: right;\">\n",
       "      <th></th>\n",
       "      <th>Hardness</th>\n",
       "      <th>Sulfate</th>\n",
       "      <th>Organic_carbon</th>\n",
       "    </tr>\n",
       "  </thead>\n",
       "  <tbody>\n",
       "    <tr>\n",
       "      <th>0</th>\n",
       "      <td>214.373394</td>\n",
       "      <td>356.886136</td>\n",
       "      <td>18.436525</td>\n",
       "    </tr>\n",
       "    <tr>\n",
       "      <th>1</th>\n",
       "      <td>181.101509</td>\n",
       "      <td>310.135738</td>\n",
       "      <td>11.558279</td>\n",
       "    </tr>\n",
       "    <tr>\n",
       "      <th>2</th>\n",
       "      <td>188.313324</td>\n",
       "      <td>326.678363</td>\n",
       "      <td>8.399735</td>\n",
       "    </tr>\n",
       "    <tr>\n",
       "      <th>3</th>\n",
       "      <td>248.071735</td>\n",
       "      <td>393.663395</td>\n",
       "      <td>13.789695</td>\n",
       "    </tr>\n",
       "    <tr>\n",
       "      <th>4</th>\n",
       "      <td>203.361523</td>\n",
       "      <td>303.309771</td>\n",
       "      <td>12.363817</td>\n",
       "    </tr>\n",
       "    <tr>\n",
       "      <th>...</th>\n",
       "      <td>...</td>\n",
       "      <td>...</td>\n",
       "      <td>...</td>\n",
       "    </tr>\n",
       "    <tr>\n",
       "      <th>2006</th>\n",
       "      <td>215.047358</td>\n",
       "      <td>312.931021</td>\n",
       "      <td>9.899115</td>\n",
       "    </tr>\n",
       "    <tr>\n",
       "      <th>2007</th>\n",
       "      <td>207.321086</td>\n",
       "      <td>304.510230</td>\n",
       "      <td>16.217303</td>\n",
       "    </tr>\n",
       "    <tr>\n",
       "      <th>2008</th>\n",
       "      <td>94.812545</td>\n",
       "      <td>258.930600</td>\n",
       "      <td>16.172755</td>\n",
       "    </tr>\n",
       "    <tr>\n",
       "      <th>2009</th>\n",
       "      <td>186.659040</td>\n",
       "      <td>345.700257</td>\n",
       "      <td>12.067620</td>\n",
       "    </tr>\n",
       "    <tr>\n",
       "      <th>2010</th>\n",
       "      <td>193.681736</td>\n",
       "      <td>359.948574</td>\n",
       "      <td>13.894419</td>\n",
       "    </tr>\n",
       "  </tbody>\n",
       "</table>\n",
       "<p>2011 rows × 3 columns</p>\n",
       "</div>"
      ],
      "text/plain": [
       "        Hardness     Sulfate  Organic_carbon\n",
       "0     214.373394  356.886136       18.436525\n",
       "1     181.101509  310.135738       11.558279\n",
       "2     188.313324  326.678363        8.399735\n",
       "3     248.071735  393.663395       13.789695\n",
       "4     203.361523  303.309771       12.363817\n",
       "...          ...         ...             ...\n",
       "2006  215.047358  312.931021        9.899115\n",
       "2007  207.321086  304.510230       16.217303\n",
       "2008   94.812545  258.930600       16.172755\n",
       "2009  186.659040  345.700257       12.067620\n",
       "2010  193.681736  359.948574       13.894419\n",
       "\n",
       "[2011 rows x 3 columns]"
      ]
     },
     "execution_count": 16,
     "metadata": {},
     "output_type": "execute_result"
    }
   ],
   "source": [
    "datavariables=data[['Hardness', 'Sulfate', 'Organic_carbon' ]]\n",
    "datavariables"
   ]
  },
  {
   "cell_type": "markdown",
   "id": "1710df17",
   "metadata": {},
   "source": [
    "Observations"
   ]
  },
  {
   "cell_type": "code",
   "execution_count": 17,
   "id": "872e434b",
   "metadata": {},
   "outputs": [
    {
     "name": "stdout",
     "output_type": "stream",
     "text": [
      "<class 'pandas.core.frame.DataFrame'>\n",
      "RangeIndex: 2011 entries, 0 to 2010\n",
      "Data columns (total 3 columns):\n",
      " #   Column          Non-Null Count  Dtype  \n",
      "---  ------          --------------  -----  \n",
      " 0   Hardness        2011 non-null   float64\n",
      " 1   Sulfate         2011 non-null   float64\n",
      " 2   Organic_carbon  2011 non-null   float64\n",
      "dtypes: float64(3)\n",
      "memory usage: 47.3 KB\n"
     ]
    }
   ],
   "source": [
    "datavariables.info()"
   ]
  },
  {
   "cell_type": "code",
   "execution_count": 18,
   "id": "b5898f23",
   "metadata": {},
   "outputs": [
    {
     "data": {
      "text/html": [
       "<div>\n",
       "<style scoped>\n",
       "    .dataframe tbody tr th:only-of-type {\n",
       "        vertical-align: middle;\n",
       "    }\n",
       "\n",
       "    .dataframe tbody tr th {\n",
       "        vertical-align: top;\n",
       "    }\n",
       "\n",
       "    .dataframe thead th {\n",
       "        text-align: right;\n",
       "    }\n",
       "</style>\n",
       "<table border=\"1\" class=\"dataframe\">\n",
       "  <thead>\n",
       "    <tr style=\"text-align: right;\">\n",
       "      <th></th>\n",
       "      <th>Hardness</th>\n",
       "      <th>Sulfate</th>\n",
       "      <th>Organic_carbon</th>\n",
       "    </tr>\n",
       "  </thead>\n",
       "  <tbody>\n",
       "    <tr>\n",
       "      <th>count</th>\n",
       "      <td>2011.000000</td>\n",
       "      <td>2011.000000</td>\n",
       "      <td>2011.000000</td>\n",
       "    </tr>\n",
       "    <tr>\n",
       "      <th>mean</th>\n",
       "      <td>195.968072</td>\n",
       "      <td>333.224672</td>\n",
       "      <td>14.357709</td>\n",
       "    </tr>\n",
       "    <tr>\n",
       "      <th>std</th>\n",
       "      <td>32.635085</td>\n",
       "      <td>41.205172</td>\n",
       "      <td>3.324959</td>\n",
       "    </tr>\n",
       "    <tr>\n",
       "      <th>min</th>\n",
       "      <td>73.492234</td>\n",
       "      <td>129.000000</td>\n",
       "      <td>2.200000</td>\n",
       "    </tr>\n",
       "    <tr>\n",
       "      <th>25%</th>\n",
       "      <td>176.744938</td>\n",
       "      <td>307.632511</td>\n",
       "      <td>12.124105</td>\n",
       "    </tr>\n",
       "    <tr>\n",
       "      <th>50%</th>\n",
       "      <td>197.191839</td>\n",
       "      <td>332.232177</td>\n",
       "      <td>14.322019</td>\n",
       "    </tr>\n",
       "    <tr>\n",
       "      <th>75%</th>\n",
       "      <td>216.441070</td>\n",
       "      <td>359.330555</td>\n",
       "      <td>16.683049</td>\n",
       "    </tr>\n",
       "    <tr>\n",
       "      <th>max</th>\n",
       "      <td>317.338124</td>\n",
       "      <td>481.030642</td>\n",
       "      <td>27.006707</td>\n",
       "    </tr>\n",
       "  </tbody>\n",
       "</table>\n",
       "</div>"
      ],
      "text/plain": [
       "          Hardness      Sulfate  Organic_carbon\n",
       "count  2011.000000  2011.000000     2011.000000\n",
       "mean    195.968072   333.224672       14.357709\n",
       "std      32.635085    41.205172        3.324959\n",
       "min      73.492234   129.000000        2.200000\n",
       "25%     176.744938   307.632511       12.124105\n",
       "50%     197.191839   332.232177       14.322019\n",
       "75%     216.441070   359.330555       16.683049\n",
       "max     317.338124   481.030642       27.006707"
      ]
     },
     "execution_count": 18,
     "metadata": {},
     "output_type": "execute_result"
    }
   ],
   "source": [
    "datavariables.describe()"
   ]
  },
  {
   "cell_type": "markdown",
   "id": "e7afe745",
   "metadata": {},
   "source": [
    "# Analysis"
   ]
  },
  {
   "cell_type": "code",
   "execution_count": null,
   "id": "e3102a37",
   "metadata": {},
   "outputs": [],
   "source": [
    "#Each time Matplotlib loads, it defines a runtime configuration (rc) containing the default styles for every plot\n",
    "element you create. This configuration can be adjusted at any time using the plt. rc convenience routine.\n",
    "\n",
    "#Seaborn distplot show a histogram with a line on it"
   ]
  },
  {
   "cell_type": "code",
   "execution_count": 28,
   "id": "88b80923",
   "metadata": {
    "scrolled": true
   },
   "outputs": [
    {
     "data": {
      "text/plain": [
       "<AxesSubplot:xlabel='Hardness', ylabel='Density'>"
      ]
     },
     "execution_count": 28,
     "metadata": {},
     "output_type": "execute_result"
    },
    {
     "data": {
      "image/png": "[encoded data removed]",
      "text/plain": [
       "<Figure size 432x288 with 1 Axes>"
      ]
     },
     "metadata": {
      "needs_background": "light"
     },
     "output_type": "display_data"
    }
   ],
   "source": [
    "import warnings\n",
    "warnings.filterwarnings('ignore')\n",
    "plt.rcParams['figure.figsize']\n",
    "#plt.rcParams['lines.color']='r'\n",
    "sns.distplot(data['Hardness'])"
   ]
  },
  {
   "cell_type": "code",
   "execution_count": 29,
   "id": "1affcbcb",
   "metadata": {},
   "outputs": [
    {
     "data": {
      "text/plain": [
       "<AxesSubplot:xlabel='Sulfate', ylabel='Density'>"
      ]
     },
     "execution_count": 29,
     "metadata": {},
     "output_type": "execute_result"
    },
    {
     "data": {
      "image/png": "[encoded data removed]",
      "text/plain": [
       "<Figure size 432x288 with 1 Axes>"
      ]
     },
     "metadata": {
      "needs_background": "light"
     },
     "output_type": "display_data"
    }
   ],
   "source": [
    "plt.rcParams['figure.figsize']\n",
    "sns.distplot(data['Sulfate'])"
   ]
  },
  {
   "cell_type": "code",
   "execution_count": 30,
   "id": "0e4e4d8b",
   "metadata": {},
   "outputs": [
    {
     "data": {
      "text/plain": [
       "<AxesSubplot:xlabel='Organic_carbon', ylabel='Density'>"
      ]
     },
     "execution_count": 30,
     "metadata": {},
     "output_type": "execute_result"
    },
    {
     "data": {
      "image/png": "[encoded data removed]",
      "text/plain": [
       "<Figure size 432x288 with 1 Axes>"
      ]
     },
     "metadata": {
      "needs_background": "light"
     },
     "output_type": "display_data"
    }
   ],
   "source": [
    "plt.rcParams['figure.figsize']\n",
    "sns.distplot(data['Organic_carbon'])"
   ]
  },
  {
   "cell_type": "code",
   "execution_count": 23,
   "id": "1dbfa6f2",
   "metadata": {},
   "outputs": [
    {
     "data": {
      "text/plain": [
       "(array([0.5, 1.5, 2.5]),\n",
       " [Text(0.5, 0, 'Hardness'),\n",
       "  Text(1.5, 0, 'Sulfate'),\n",
       "  Text(2.5, 0, 'Organic_carbon')])"
      ]
     },
     "execution_count": 23,
     "metadata": {},
     "output_type": "execute_result"
    },
    {
     "data": {
      "image/png": "[encoded data removed]",
      "text/plain": [
       "<Figure size 432x288 with 2 Axes>"
      ]
     },
     "metadata": {
      "needs_background": "light"
     },
     "output_type": "display_data"
    }
   ],
   "source": [
    "#HEAT MAP\n",
    "sns.heatmap(datavariables.corr(),annot=True)\n",
    "plt.xticks(rotation=45)"
   ]
  },
  {
   "cell_type": "markdown",
   "id": "ef5324b7",
   "metadata": {},
   "source": [
    "4. Carry out correlation analysis on the dataset and find the correlation factor\n",
    "between\n",
    "a. ph and Chloramines\n",
    "b. ph and Conductivity"
   ]
  },
  {
   "cell_type": "code",
   "execution_count": 35,
   "id": "9b6ac36b",
   "metadata": {},
   "outputs": [
    {
     "data": {
      "text/plain": [
       "<AxesSubplot:>"
      ]
     },
     "execution_count": 35,
     "metadata": {},
     "output_type": "execute_result"
    },
    {
     "data": {
      "image/png": "[encoded data removed]",
      "text/plain": [
       "<Figure size 720x288 with 2 Axes>"
      ]
     },
     "metadata": {
      "needs_background": "light"
     },
     "output_type": "display_data"
    }
   ],
   "source": [
    "#correlation between varibles using \"crr\" function\n",
    "corrmatrix=data.corr()\n",
    "plt.subplots(figsize=(10,4))\n",
    "sns.heatmap(corrmatrix,vmin=-.1,vmax=1,annot=True,linewidth=0.2,cmap=\"YlGnBu\")"
   ]
  },
  {
   "cell_type": "markdown",
   "id": "042f17d5",
   "metadata": {},
   "source": [
    "#ph and Chloramines"
   ]
  },
  {
   "cell_type": "code",
   "execution_count": 37,
   "id": "3aedc132",
   "metadata": {},
   "outputs": [
    {
     "data": {
      "text/html": [
       "<div>\n",
       "<style scoped>\n",
       "    .dataframe tbody tr th:only-of-type {\n",
       "        vertical-align: middle;\n",
       "    }\n",
       "\n",
       "    .dataframe tbody tr th {\n",
       "        vertical-align: top;\n",
       "    }\n",
       "\n",
       "    .dataframe thead th {\n",
       "        text-align: right;\n",
       "    }\n",
       "</style>\n",
       "<table border=\"1\" class=\"dataframe\">\n",
       "  <thead>\n",
       "    <tr style=\"text-align: right;\">\n",
       "      <th></th>\n",
       "      <th>ph</th>\n",
       "      <th>Chloramines</th>\n",
       "    </tr>\n",
       "  </thead>\n",
       "  <tbody>\n",
       "    <tr>\n",
       "      <th>ph</th>\n",
       "      <td>1.000000</td>\n",
       "      <td>-0.024768</td>\n",
       "    </tr>\n",
       "    <tr>\n",
       "      <th>Chloramines</th>\n",
       "      <td>-0.024768</td>\n",
       "      <td>1.000000</td>\n",
       "    </tr>\n",
       "  </tbody>\n",
       "</table>\n",
       "</div>"
      ],
      "text/plain": [
       "                   ph  Chloramines\n",
       "ph           1.000000    -0.024768\n",
       "Chloramines -0.024768     1.000000"
      ]
     },
     "execution_count": 37,
     "metadata": {},
     "output_type": "execute_result"
    }
   ],
   "source": [
    " data[['ph','Chloramines']].corr()\n"
   ]
  },
  {
   "cell_type": "code",
   "execution_count": 38,
   "id": "3930683f",
   "metadata": {},
   "outputs": [
    {
     "data": {
      "text/html": [
       "<div>\n",
       "<style scoped>\n",
       "    .dataframe tbody tr th:only-of-type {\n",
       "        vertical-align: middle;\n",
       "    }\n",
       "\n",
       "    .dataframe tbody tr th {\n",
       "        vertical-align: top;\n",
       "    }\n",
       "\n",
       "    .dataframe thead th {\n",
       "        text-align: right;\n",
       "    }\n",
       "</style>\n",
       "<table border=\"1\" class=\"dataframe\">\n",
       "  <thead>\n",
       "    <tr style=\"text-align: right;\">\n",
       "      <th></th>\n",
       "      <th>ph</th>\n",
       "      <th>Conductivity</th>\n",
       "    </tr>\n",
       "  </thead>\n",
       "  <tbody>\n",
       "    <tr>\n",
       "      <th>ph</th>\n",
       "      <td>1.000000</td>\n",
       "      <td>0.014128</td>\n",
       "    </tr>\n",
       "    <tr>\n",
       "      <th>Conductivity</th>\n",
       "      <td>0.014128</td>\n",
       "      <td>1.000000</td>\n",
       "    </tr>\n",
       "  </tbody>\n",
       "</table>\n",
       "</div>"
      ],
      "text/plain": [
       "                    ph  Conductivity\n",
       "ph            1.000000      0.014128\n",
       "Conductivity  0.014128      1.000000"
      ]
     },
     "execution_count": 38,
     "metadata": {},
     "output_type": "execute_result"
    }
   ],
   "source": [
    "# ph and Conductivity\n",
    "data[['ph','Conductivity']].corr()"
   ]
  },
  {
   "cell_type": "markdown",
   "id": "e3a9456d",
   "metadata": {},
   "source": [
    "#observation\n",
    "1.The correlation coefficients for 'pH and chloramines'close to 0.\n",
    "2.The correlation coefficients for 'pH and Conductivity'close to 0.\n",
    "so that we can conclude there is a weak association exists"
   ]
  }
 ],
 "metadata": {
  "kernelspec": {
   "display_name": "Python 3 (ipykernel)",
   "language": "python",
   "name": "python3"
  },
  "language_info": {
   "codemirror_mode": {
    "name": "ipython",
    "version": 3
   },
   "file_extension": ".py",
   "mimetype": "text/x-python",
   "name": "python",
   "nbconvert_exporter": "python",
   "pygments_lexer": "ipython3",
   "version": "3.9.7"
  }
 },
 "nbformat": 4,
 "nbformat_minor": 5
}
