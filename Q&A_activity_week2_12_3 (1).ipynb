{
  "cells": [
    {
      "cell_type": "markdown",
      "metadata": {
        "id": "eJsWNnFXUjho"
      },
      "source": [
        "## 1. Complete the following code to find the area of an equilateral triangle. Output should be as displayed"
      ]
    },
    {
      "cell_type": "code",
      "execution_count": 1,
      "metadata": {
        "colab": {
          "base_uri": "https://localhost:8080/"
        },
        "id": "sbkMgl2nUjhw",
        "outputId": "3d940dfd-21ff-4967-d603-6654ebed2064"
      },
      "outputs": [
        {
          "output_type": "stream",
          "name": "stdout",
          "text": [
            "Enter the side of the equilateral triangle: 5\n",
            "Area =  10.825\n"
          ]
        }
      ],
      "source": [
        "import math\n",
        "side = float(input(\"Enter the side of the equilateral triangle: \"))\n",
        "area = ((math.sqrt(3))/4)*pow(side,2)\n",
        "print(\"Area = \",(round(area,3)))\n"
      ]
    },
    {
      "cell_type": "markdown",
      "metadata": {
        "id": "qOdm0ZEoUjhz"
      },
      "source": [
        "## 2. Write a program to count the number of each characters in a string"
      ]
    },
    {
      "cell_type": "code",
      "execution_count": 2,
      "metadata": {
        "colab": {
          "base_uri": "https://localhost:8080/"
        },
        "id": "dVmMFEbAUjh0",
        "outputId": "179a1e2a-4d8f-49d0-bcfc-389d0be1df70"
      },
      "outputs": [
        {
          "output_type": "stream",
          "name": "stdout",
          "text": [
            "Enter the string:activity\n",
            "number of characters: 8\n"
          ]
        }
      ],
      "source": [
        "String= (input(\"Enter the string:\" ))\n",
        "count = 0;\n",
        "for i in range(0,len(String)):\n",
        "  count=count+1;\n",
        "print(\"number of characters:\",str(count))"
      ]
    },
    {
      "cell_type": "markdown",
      "metadata": {
        "id": "jRM32b9VUjh0"
      },
      "source": [
        "## 3. Write a program to find the area and perimeter of a rectangle using functions"
      ]
    },
    {
      "cell_type": "code",
      "execution_count": 3,
      "metadata": {
        "colab": {
          "base_uri": "https://localhost:8080/"
        },
        "id": "5BO_b7wWUjh1",
        "outputId": "f8516cf8-2523-4e44-e537-10f92110c0d3"
      },
      "outputs": [
        {
          "output_type": "stream",
          "name": "stdout",
          "text": [
            "Enter the length of the rectangle: 10\n",
            "Enter the width of the rectangle: 5\n",
            "are of rectangle: 50\n",
            "perimeter of rectangle 30\n"
          ]
        }
      ],
      "source": [
        "\n",
        "def area_and_peremeter(length,width):\n",
        "  area=length*width\n",
        "  peremeter=(2*length)+(2*width)\n",
        "  print(\"are of rectangle:\",area)\n",
        "  print(\"perimeter of rectangle\",peremeter )\n",
        "\n",
        "length = int(input(\"Enter the length of the rectangle: \"))\n",
        "width = int(input(\"Enter the width of the rectangle: \"))  \n",
        "\n",
        "area_and_peremeter(length,width)"
      ]
    },
    {
      "cell_type": "markdown",
      "metadata": {
        "id": "MHBIAB6rUjh1"
      },
      "source": [
        "## 4. Write a program to print the fibonacci series till a specified number"
      ]
    },
    {
      "cell_type": "code",
      "execution_count": 5,
      "metadata": {
        "colab": {
          "base_uri": "https://localhost:8080/"
        },
        "id": "ce3H7PXWUjh2",
        "outputId": "ab0e76e8-3448-4cad-947e-e4d9f48c8f87"
      },
      "outputs": [
        {
          "output_type": "stream",
          "name": "stdout",
          "text": [
            "Enter the limit: 5\n",
            "0 1 1 2 3 "
          ]
        }
      ],
      "source": [
        "number = int(input(\"Enter the limit: \"))\n",
        "n1 = 0\n",
        "n2 = 1\n",
        "for i in range(0, number):\n",
        "           if(i <= 1):\n",
        "                      n3 = i\n",
        "           else:\n",
        "                      n3 = n1 + n2\n",
        "                      n1 = n2\n",
        "                      n2 = n3                      \n",
        "                     \n",
        "           print( n3, end=\" \")\n",
        "           "
      ]
    },
    {
      "cell_type": "markdown",
      "metadata": {
        "id": "Oqir9UL0Ujh2"
      },
      "source": [
        "## 5. Complete the following code to find the minimum of 3 number using conditional statements. Output should be as displayed"
      ]
    },
    {
      "cell_type": "code",
      "execution_count": 6,
      "metadata": {
        "colab": {
          "base_uri": "https://localhost:8080/"
        },
        "id": "9Bn3h_s1Ujh3",
        "outputId": "09733886-270d-4e25-8ecb-b3e7c726e849"
      },
      "outputs": [
        {
          "output_type": "stream",
          "name": "stdout",
          "text": [
            "Enter three numbers followed by  : -19 -100 -9\n",
            "First number : -19\n",
            "Second number : -100\n",
            "Third number : -9\n",
            "-100  is smallest\n"
          ]
        }
      ],
      "source": [
        "a,b,c = input(\"Enter three numbers followed by  : \").split()\n",
        "\n",
        "print(\"First number :\",a)\n",
        "print(\"Second number :\",b)\n",
        "print(\"Third number :\",c)\n",
        "if(a==b==c):\n",
        "    print(\"Entered numbers are equal!!!\")\n",
        "else:\n",
        "  if(a<b and a<c):\n",
        "    print(a,\" is smallest\")\n",
        "  elif(b<a and b<c):\n",
        "    print(b,\" is smallest\")\n",
        "  else:\n",
        "    print(c,\" is smallest\") "
      ]
    },
    {
      "cell_type": "markdown",
      "metadata": {
        "id": "o72hgK50Ujh4"
      },
      "source": [
        "## 6. Write a program to print star pyramind. The number of rows should be taken as input from the user"
      ]
    },
    {
      "cell_type": "code",
      "execution_count": 7,
      "metadata": {
        "colab": {
          "base_uri": "https://localhost:8080/"
        },
        "id": "2peRYn6uUjh5",
        "outputId": "2e71771a-e832-432d-8513-4edef52400ef"
      },
      "outputs": [
        {
          "output_type": "stream",
          "name": "stdout",
          "text": [
            "Enter number of steps: 5\n",
            "        * \n",
            "      * * * \n",
            "    * * * * * \n",
            "  * * * * * * * \n",
            "* * * * * * * * * \n"
          ]
        }
      ],
      "source": [
        "steps = int(input(\"Enter number of steps: \"))\n",
        "n = 0\n",
        "for i in range(1, steps+1):\n",
        "    for space in range(1, (steps-i)+1):\n",
        "        print(end=\"  \")\n",
        "   \n",
        "    while n!=(2*i-1):\n",
        "        print(\"* \", end=\"\")\n",
        "        n += 1\n",
        "   \n",
        "    n = 0\n",
        "    print()\n",
        "    "
      ]
    },
    {
      "cell_type": "markdown",
      "metadata": {
        "id": "WlParQkOUjh5"
      },
      "source": [
        "## 7. Complete the following code to convert hour into seconds. Output should be as displayed"
      ]
    },
    {
      "cell_type": "code",
      "execution_count": 8,
      "metadata": {
        "colab": {
          "base_uri": "https://localhost:8080/"
        },
        "id": "YSZNJqJQUjh6",
        "outputId": "e6b17e6a-bbf6-4a6d-b085-aeec5b3c99fd"
      },
      "outputs": [
        {
          "output_type": "stream",
          "name": "stdout",
          "text": [
            "Enter time in Hours:24\n",
            "24  Hour is equal to 86400  Seconds\n"
          ]
        }
      ],
      "source": [
        "def to_seconds(t):\n",
        "    t=t*60*60\n",
        "    return t\n",
        "time_in_hours = int(input(\"Enter time in Hours:\"))\n",
        "print(time_in_hours ,\" Hour is equal to\" ,to_seconds(time_in_hours) ,\" Seconds\")"
      ]
    },
    {
      "cell_type": "markdown",
      "metadata": {
        "id": "v5SpQUWZUjh7"
      },
      "source": [
        "## 8. Write a program to print multiplication table as below"
      ]
    },
    {
      "cell_type": "code",
      "execution_count": 10,
      "metadata": {
        "colab": {
          "base_uri": "https://localhost:8080/"
        },
        "id": "vvVnYjkCUjh7",
        "outputId": "c09a126b-3847-40d3-c501-c6ece0d14c64"
      },
      "outputs": [
        {
          "output_type": "stream",
          "name": "stdout",
          "text": [
            "Enter a number fo find the muliplication table:67\n",
            "1 x 67 = 67\n",
            "2 x 67 = 134\n",
            "3 x 67 = 201\n",
            "4 x 67 = 268\n",
            "5 x 67 = 335\n",
            "6 x 67 = 402\n",
            "7 x 67 = 469\n",
            "8 x 67 = 536\n",
            "9 x 67 = 603\n",
            "10 x 67 = 670\n"
          ]
        }
      ],
      "source": [
        "n= int(input(\"Enter a number fo find the muliplication table:\"))\n",
        "for i in range(1,11):\n",
        "  print(i,'x',n,'=', n*i)"
      ]
    },
    {
      "cell_type": "markdown",
      "metadata": {
        "id": "60ltcY5LUjh7"
      },
      "source": [
        "## 9. Write a program to take your 5 favorite food as list and print each as 'I like Biriyani'"
      ]
    },
    {
      "cell_type": "code",
      "execution_count": 11,
      "metadata": {
        "colab": {
          "base_uri": "https://localhost:8080/"
        },
        "id": "vzgzq3E9Ujh8",
        "outputId": "6c643ea5-3038-40f2-a40c-38f2c74dec59"
      },
      "outputs": [
        {
          "output_type": "stream",
          "name": "stdout",
          "text": [
            "enter your favorite_foodrice biriyani chappathi noodels geerice\n",
            "I like  rice\n",
            "I like  biriyani\n",
            "I like  chappathi\n",
            "I like  noodels\n",
            "I like  geerice\n"
          ]
        }
      ],
      "source": [
        "favorite_food = input(\"enter your favorite_food\").split()\n",
        "for i in range (0,5): \n",
        "  print(\"I like \" ,favorite_food [i] )\n",
        "    "
      ]
    }
  ],
  "metadata": {
    "kernelspec": {
      "display_name": "Python 3",
      "language": "python",
      "name": "python3"
    },
    "language_info": {
      "codemirror_mode": {
        "name": "ipython",
        "version": 3
      },
      "file_extension": ".py",
      "mimetype": "text/x-python",
      "name": "python",
      "nbconvert_exporter": "python",
      "pygments_lexer": "ipython3",
      "version": "3.7.6"
    },
    "colab": {
      "name": "Q&A activity week2 12/3.ipynb",
      "provenance": [],
      "collapsed_sections": []
    }
  },
  "nbformat": 4,
  "nbformat_minor": 0
}